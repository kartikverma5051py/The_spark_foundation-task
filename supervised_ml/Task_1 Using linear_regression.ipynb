{
 "cells": [
  {
   "cell_type": "markdown",
   "id": "a2ff5bd5",
   "metadata": {},
   "source": [
    "# The Sparks Foundation - Intership"
   ]
  },
  {
   "cell_type": "markdown",
   "id": "b37dee3d",
   "metadata": {},
   "source": [
    "Data Science & Business Analytics "
   ]
  },
  {
   "cell_type": "markdown",
   "id": "38d0dde4",
   "metadata": {},
   "source": [
    "# TASK - 1"
   ]
  },
  {
   "cell_type": "markdown",
   "id": "b7e4bb20",
   "metadata": {},
   "source": [
    "# Prediction using Supervised ML"
   ]
  },
  {
   "cell_type": "markdown",
   "id": "bb479888",
   "metadata": {},
   "source": [
    "* Predict the percentage of an student based on the no of study hours\n",
    "* Data can be found at http://bit.ly/w-data"
   ]
  },
  {
   "cell_type": "markdown",
   "id": "9e401b18",
   "metadata": {},
   "source": [
    " Author - kartik Verma"
   ]
  },
  {
   "cell_type": "markdown",
   "id": "50465a09",
   "metadata": {},
   "source": [
    "# importing some useful libaries"
   ]
  },
  {
   "cell_type": "code",
   "execution_count": 1,
   "id": "58814b9b",
   "metadata": {},
   "outputs": [],
   "source": [
    "import pandas as pd\n",
    "import numpy as np\n",
    "import matplotlib.pyplot as plt\n"
   ]
  },
  {
   "cell_type": "code",
   "execution_count": 2,
   "id": "59fab201",
   "metadata": {},
   "outputs": [
    {
     "data": {
      "text/html": [
       "<div>\n",
       "<style scoped>\n",
       "    .dataframe tbody tr th:only-of-type {\n",
       "        vertical-align: middle;\n",
       "    }\n",
       "\n",
       "    .dataframe tbody tr th {\n",
       "        vertical-align: top;\n",
       "    }\n",
       "\n",
       "    .dataframe thead th {\n",
       "        text-align: right;\n",
       "    }\n",
       "</style>\n",
       "<table border=\"1\" class=\"dataframe\">\n",
       "  <thead>\n",
       "    <tr style=\"text-align: right;\">\n",
       "      <th></th>\n",
       "      <th>Hours</th>\n",
       "      <th>Scores</th>\n",
       "    </tr>\n",
       "  </thead>\n",
       "  <tbody>\n",
       "    <tr>\n",
       "      <th>0</th>\n",
       "      <td>2.5</td>\n",
       "      <td>21</td>\n",
       "    </tr>\n",
       "    <tr>\n",
       "      <th>1</th>\n",
       "      <td>5.1</td>\n",
       "      <td>47</td>\n",
       "    </tr>\n",
       "    <tr>\n",
       "      <th>2</th>\n",
       "      <td>3.2</td>\n",
       "      <td>27</td>\n",
       "    </tr>\n",
       "    <tr>\n",
       "      <th>3</th>\n",
       "      <td>8.5</td>\n",
       "      <td>75</td>\n",
       "    </tr>\n",
       "    <tr>\n",
       "      <th>4</th>\n",
       "      <td>3.5</td>\n",
       "      <td>30</td>\n",
       "    </tr>\n",
       "  </tbody>\n",
       "</table>\n",
       "</div>"
      ],
      "text/plain": [
       "   Hours  Scores\n",
       "0    2.5      21\n",
       "1    5.1      47\n",
       "2    3.2      27\n",
       "3    8.5      75\n",
       "4    3.5      30"
      ]
     },
     "execution_count": 2,
     "metadata": {},
     "output_type": "execute_result"
    }
   ],
   "source": [
    "# load the dataset\n",
    "student_df = pd.read_csv(\"student_scores.csv\")\n",
    "student_df.head()"
   ]
  },
  {
   "cell_type": "markdown",
   "id": "e828d861",
   "metadata": {},
   "source": [
    "# Data preprocessing"
   ]
  },
  {
   "cell_type": "code",
   "execution_count": 3,
   "id": "24549e09",
   "metadata": {},
   "outputs": [
    {
     "data": {
      "text/plain": [
       "(25, 2)"
      ]
     },
     "execution_count": 3,
     "metadata": {},
     "output_type": "execute_result"
    }
   ],
   "source": [
    "student_df.shape"
   ]
  },
  {
   "cell_type": "markdown",
   "id": "fac5eb17",
   "metadata": {},
   "source": [
    "* Now let check null values in dataset"
   ]
  },
  {
   "cell_type": "code",
   "execution_count": 4,
   "id": "dd35c1dc",
   "metadata": {},
   "outputs": [
    {
     "data": {
      "text/plain": [
       "Hours     0\n",
       "Scores    0\n",
       "dtype: int64"
      ]
     },
     "execution_count": 4,
     "metadata": {},
     "output_type": "execute_result"
    }
   ],
   "source": [
    "student_df.isnull().sum()"
   ]
  },
  {
   "cell_type": "markdown",
   "id": "626af408",
   "metadata": {},
   "source": [
    "* let how many unique values"
   ]
  },
  {
   "cell_type": "code",
   "execution_count": 5,
   "id": "3f29de65",
   "metadata": {},
   "outputs": [
    {
     "data": {
      "text/plain": [
       "Hours     23\n",
       "Scores    23\n",
       "dtype: int64"
      ]
     },
     "execution_count": 5,
     "metadata": {},
     "output_type": "execute_result"
    }
   ],
   "source": [
    "student_df.nunique()"
   ]
  },
  {
   "cell_type": "markdown",
   "id": "43ed9f97",
   "metadata": {},
   "source": [
    "* statistical summary of Data Frame"
   ]
  },
  {
   "cell_type": "code",
   "execution_count": 6,
   "id": "20538d63",
   "metadata": {},
   "outputs": [
    {
     "data": {
      "text/html": [
       "<div>\n",
       "<style scoped>\n",
       "    .dataframe tbody tr th:only-of-type {\n",
       "        vertical-align: middle;\n",
       "    }\n",
       "\n",
       "    .dataframe tbody tr th {\n",
       "        vertical-align: top;\n",
       "    }\n",
       "\n",
       "    .dataframe thead th {\n",
       "        text-align: right;\n",
       "    }\n",
       "</style>\n",
       "<table border=\"1\" class=\"dataframe\">\n",
       "  <thead>\n",
       "    <tr style=\"text-align: right;\">\n",
       "      <th></th>\n",
       "      <th>Hours</th>\n",
       "      <th>Scores</th>\n",
       "    </tr>\n",
       "  </thead>\n",
       "  <tbody>\n",
       "    <tr>\n",
       "      <th>count</th>\n",
       "      <td>25.000000</td>\n",
       "      <td>25.000000</td>\n",
       "    </tr>\n",
       "    <tr>\n",
       "      <th>mean</th>\n",
       "      <td>5.012000</td>\n",
       "      <td>51.480000</td>\n",
       "    </tr>\n",
       "    <tr>\n",
       "      <th>std</th>\n",
       "      <td>2.525094</td>\n",
       "      <td>25.286887</td>\n",
       "    </tr>\n",
       "    <tr>\n",
       "      <th>min</th>\n",
       "      <td>1.100000</td>\n",
       "      <td>17.000000</td>\n",
       "    </tr>\n",
       "    <tr>\n",
       "      <th>25%</th>\n",
       "      <td>2.700000</td>\n",
       "      <td>30.000000</td>\n",
       "    </tr>\n",
       "    <tr>\n",
       "      <th>50%</th>\n",
       "      <td>4.800000</td>\n",
       "      <td>47.000000</td>\n",
       "    </tr>\n",
       "    <tr>\n",
       "      <th>75%</th>\n",
       "      <td>7.400000</td>\n",
       "      <td>75.000000</td>\n",
       "    </tr>\n",
       "    <tr>\n",
       "      <th>max</th>\n",
       "      <td>9.200000</td>\n",
       "      <td>95.000000</td>\n",
       "    </tr>\n",
       "  </tbody>\n",
       "</table>\n",
       "</div>"
      ],
      "text/plain": [
       "           Hours     Scores\n",
       "count  25.000000  25.000000\n",
       "mean    5.012000  51.480000\n",
       "std     2.525094  25.286887\n",
       "min     1.100000  17.000000\n",
       "25%     2.700000  30.000000\n",
       "50%     4.800000  47.000000\n",
       "75%     7.400000  75.000000\n",
       "max     9.200000  95.000000"
      ]
     },
     "execution_count": 6,
     "metadata": {},
     "output_type": "execute_result"
    }
   ],
   "source": [
    "student_df.describe() "
   ]
  },
  {
   "cell_type": "markdown",
   "id": "0ce5154e",
   "metadata": {},
   "source": [
    "# Visualize this data set"
   ]
  },
  {
   "cell_type": "code",
   "execution_count": 7,
   "id": "1239d0d2",
   "metadata": {},
   "outputs": [
    {
     "data": {
      "image/png": "[encoded data removed]",
      "text/plain": [
       "<Figure size 432x288 with 1 Axes>"
      ]
     },
     "metadata": {
      "needs_background": "light"
     },
     "output_type": "display_data"
    }
   ],
   "source": [
    "X = student_df.Hours\n",
    "y = student_df.Scores\n",
    "plt.ylabel(\"Scores\")\n",
    "plt.xlabel(\"Hours\")\n",
    "plt.scatter(X,y,cmap=\"viridis\")\n",
    "plt.colorbar\n",
    "plt.show()"
   ]
  },
  {
   "cell_type": "markdown",
   "id": "4d587a5d",
   "metadata": {},
   "source": [
    "# Now we will split the dataset in train and test"
   ]
  },
  {
   "cell_type": "code",
   "execution_count": 8,
   "id": "50208a22",
   "metadata": {},
   "outputs": [],
   "source": [
    "x= student_df.iloc[:, :-1].values  \n",
    "y= student_df.iloc[:, 1].values   \n",
    "from sklearn.model_selection import train_test_split\n",
    "X_train, X_test, y_train, y_test  = train_test_split(x,y,test_size=0.2,random_state=42)"
   ]
  },
  {
   "cell_type": "code",
   "execution_count": 9,
   "id": "683bbccf",
   "metadata": {},
   "outputs": [
    {
     "data": {
      "text/plain": [
       "((20, 1), (5, 1))"
      ]
     },
     "execution_count": 9,
     "metadata": {},
     "output_type": "execute_result"
    }
   ],
   "source": [
    "X_train.shape , X_test.shape"
   ]
  },
  {
   "cell_type": "markdown",
   "id": "54ee49d5",
   "metadata": {},
   "source": [
    "# Now build the model"
   ]
  },
  {
   "cell_type": "markdown",
   "id": "07676a84",
   "metadata": {},
   "source": [
    "* we use linear regression model \n",
    "* y= a0+a1x\n",
    "* Y= Dependent Variable (Target Variable)\n",
    "* X= Independent Variable (predictor Variable)\n",
    "* a0= intercept of the line (Gives an additional degree of freedom)\n",
    "* a1 = Linear regression coefficient (scale factor to each input value)."
   ]
  },
  {
   "cell_type": "code",
   "execution_count": 10,
   "id": "d923f77c",
   "metadata": {},
   "outputs": [],
   "source": [
    "from sklearn.linear_model import LinearRegression\n",
    "model_lr = LinearRegression()"
   ]
  },
  {
   "cell_type": "code",
   "execution_count": 11,
   "id": "c19aae21",
   "metadata": {},
   "outputs": [
    {
     "data": {
      "text/plain": [
       "LinearRegression()"
      ]
     },
     "execution_count": 11,
     "metadata": {},
     "output_type": "execute_result"
    }
   ],
   "source": [
    "# then train the model\n",
    "model_lr.fit(X_train,y_train)"
   ]
  },
  {
   "cell_type": "code",
   "execution_count": 12,
   "id": "64c87940",
   "metadata": {},
   "outputs": [
    {
     "data": {
      "text/plain": [
       "2.826892353899737"
      ]
     },
     "execution_count": 12,
     "metadata": {},
     "output_type": "execute_result"
    }
   ],
   "source": [
    "model_lr.intercept_"
   ]
  },
  {
   "cell_type": "code",
   "execution_count": 13,
   "id": "77e0ce62",
   "metadata": {},
   "outputs": [
    {
     "data": {
      "text/plain": [
       "array([9.68207815])"
      ]
     },
     "execution_count": 13,
     "metadata": {},
     "output_type": "execute_result"
    }
   ],
   "source": [
    "model_lr.coef_"
   ]
  },
  {
   "cell_type": "markdown",
   "id": "c5973a2d",
   "metadata": {},
   "source": [
    "# prediction"
   ]
  },
  {
   "cell_type": "code",
   "execution_count": 14,
   "id": "93bfc48e",
   "metadata": {},
   "outputs": [
    {
     "data": {
      "text/plain": [
       "array([83.18814104, 27.03208774, 27.03208774, 69.63323162, 59.95115347])"
      ]
     },
     "execution_count": 14,
     "metadata": {},
     "output_type": "execute_result"
    }
   ],
   "source": [
    "y_pred = model_lr.predict(X_test)\n",
    "\n",
    "y_pred"
   ]
  },
  {
   "cell_type": "markdown",
   "id": "9170b07b",
   "metadata": {},
   "source": [
    "* student studies for 9.25 hrs/day"
   ]
  },
  {
   "cell_type": "code",
   "execution_count": 15,
   "id": "14b5e110",
   "metadata": {},
   "outputs": [
    {
     "data": {
      "text/plain": [
       "92.38611528261494"
      ]
     },
     "execution_count": 15,
     "metadata": {},
     "output_type": "execute_result"
    }
   ],
   "source": [
    "model_lr.predict([[9.25]])[0]"
   ]
  },
  {
   "cell_type": "markdown",
   "id": "78fe95d8",
   "metadata": {},
   "source": [
    "# if the student studies 9.25hrs/day then he scores 92.38%"
   ]
  },
  {
   "cell_type": "markdown",
   "id": "1e854ffc",
   "metadata": {},
   "source": [
    "# visualizing the Training set results:"
   ]
  },
  {
   "cell_type": "code",
   "execution_count": 16,
   "id": "189bb7bf",
   "metadata": {},
   "outputs": [],
   "source": [
    "y_pred = model_lr.predict(X_test)\n",
    "x_pred = model_lr.predict(X_train)"
   ]
  },
  {
   "cell_type": "code",
   "execution_count": 17,
   "id": "0c49c444",
   "metadata": {},
   "outputs": [
    {
     "data": {
      "image/png": "[encoded data removed]",
      "text/plain": [
       "<Figure size 432x288 with 1 Axes>"
      ]
     },
     "metadata": {
      "needs_background": "light"
     },
     "output_type": "display_data"
    }
   ],
   "source": [
    "plt.scatter(X_train, y_train, color=\"green\")   \n",
    "plt.plot(X_train, x_pred, color=\"red\")    \n",
    "plt.title(\"Score vs hours (Training Dataset)\")  \n",
    "plt.xlabel(\"Hours\")  \n",
    "plt.ylabel(\"scores %\")  \n",
    "plt.show()  "
   ]
  },
  {
   "cell_type": "markdown",
   "id": "17484695",
   "metadata": {},
   "source": [
    "# visualizing the Test set results"
   ]
  },
  {
   "cell_type": "code",
   "execution_count": 18,
   "id": "819cd2bd",
   "metadata": {},
   "outputs": [
    {
     "data": {
      "image/png": "[encoded data removed]",
      "text/plain": [
       "<Figure size 432x288 with 1 Axes>"
      ]
     },
     "metadata": {
      "needs_background": "light"
     },
     "output_type": "display_data"
    }
   ],
   "source": [
    "#visualizing the Test set results  \n",
    "plt.scatter(X_test, y_test, color=\"blue\")   \n",
    "plt.plot(X_train, x_pred, color=\"red\")    \n",
    "plt.title(\"Score vs hours (Training Dataset)\")  \n",
    "plt.xlabel(\"Hours\")  \n",
    "plt.ylabel(\"scores %\")  \n",
    "plt.show()"
   ]
  },
  {
   "cell_type": "markdown",
   "id": "ebb452a0",
   "metadata": {},
   "source": [
    "# let check model accuracy"
   ]
  },
  {
   "cell_type": "code",
   "execution_count": 19,
   "id": "8bb1b67c",
   "metadata": {},
   "outputs": [
    {
     "data": {
      "text/plain": [
       "0.9678055545167994"
      ]
     },
     "execution_count": 19,
     "metadata": {},
     "output_type": "execute_result"
    }
   ],
   "source": [
    "model_lr.score(X_test,y_test)"
   ]
  },
  {
   "cell_type": "code",
   "execution_count": 20,
   "id": "235cd548",
   "metadata": {},
   "outputs": [
    {
     "data": {
      "text/plain": [
       "0.9491209376364416"
      ]
     },
     "execution_count": 20,
     "metadata": {},
     "output_type": "execute_result"
    }
   ],
   "source": [
    "model_lr.score(X_train,y_train)"
   ]
  },
  {
   "cell_type": "markdown",
   "id": "4e999a6b",
   "metadata": {},
   "source": [
    "# Thank you \n",
    "4/5/2022"
   ]
  },
  {
   "cell_type": "code",
   "execution_count": null,
   "id": "3a138719",
   "metadata": {},
   "outputs": [],
   "source": []
  }
 ],
 "metadata": {
  "kernelspec": {
   "display_name": "Python 3 (ipykernel)",
   "language": "python",
   "name": "python3"
  },
  "language_info": {
   "codemirror_mode": {
    "name": "ipython",
    "version": 3
   },
   "file_extension": ".py",
   "mimetype": "text/x-python",
   "name": "python",
   "nbconvert_exporter": "python",
   "pygments_lexer": "ipython3",
   "version": "3.9.6"
  }
 },
 "nbformat": 4,
 "nbformat_minor": 5
}
